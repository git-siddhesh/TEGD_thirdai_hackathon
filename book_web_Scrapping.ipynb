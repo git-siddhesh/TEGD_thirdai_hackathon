{
 "cells": [
  {
   "cell_type": "code",
   "execution_count": 1,
   "metadata": {},
   "outputs": [],
   "source": [
    "# Write a code for web scrapping using beautiful soup and extract the data of all the books from the website https://ncert.nic.in/textbook.php\n",
    "\n",
    "# Importing the required libraries\n",
    "import requests\n",
    "from bs4 import BeautifulSoup\n",
    "import pandas as pd\n",
    "\n",
    "# Creating a function to get the data from the website\n",
    "def get_data(url):\n",
    "    # Sending a request to the website\n",
    "    response = requests.get(url)\n",
    "    # Getting the content of the website\n",
    "    content = response.content\n",
    "    # Parsing the content of the website\n",
    "    soup = BeautifulSoup(content, 'html.parser')\n",
    "\n",
    "    # print(soup.prettify())\n",
    "    # Getting the required data from the website\n",
    "    # data = soup.find_all('div', class_='col-md-9 col-sm-9 col-xs-12 tab-content')\n",
    "    # Returning the data\n",
    "    return soup\n",
    "\n"
   ]
  },
  {
   "cell_type": "code",
   "execution_count": 2,
   "metadata": {},
   "outputs": [],
   "source": [
    "\n",
    "# Creating a variable to store the url\n",
    "url = 'https://ncert.nic.in/textbook.php'\n",
    "# Calling the get_data function\n",
    "data = get_data(url)\n",
    "\n",
    "#data\n",
    "\n"
   ]
  },
  {
   "cell_type": "code",
   "execution_count": 3,
   "metadata": {},
   "outputs": [
    {
     "data": {
      "text/plain": [
       "462"
      ]
     },
     "execution_count": 3,
     "metadata": {},
     "output_type": "execute_result"
    }
   ],
   "source": [
    "# .value=\"textbook.php?ehap1=0-22\"\n",
    "\n",
    "import re \n",
    "match_format = r'''\"textbook\\.php\\?(.*)=(.*)\"'''\n",
    "books_prefix = list(set([tup[0] for tup in re.findall(match_format, str(data))]))\n",
    "len(books_prefix)"
   ]
  },
  {
   "cell_type": "code",
   "execution_count": 6,
   "metadata": {},
   "outputs": [
    {
     "data": {
      "text/plain": [
       "240"
      ]
     },
     "execution_count": 6,
     "metadata": {},
     "output_type": "execute_result"
    }
   ],
   "source": [
    "final_books = []\n",
    "for i in books_prefix:\n",
    "    if i>'k':\n",
    "        final_books.append(i)\n",
    "final_books.sort()\n",
    "len(final_books)"
   ]
  },
  {
   "cell_type": "code",
   "execution_count": null,
   "metadata": {},
   "outputs": [],
   "source": [
    "import urllib.request\n"
   ]
  },
  {
   "cell_type": "code",
   "execution_count": 10,
   "metadata": {},
   "outputs": [
    {
     "name": "stdout",
     "output_type": "stream",
     "text": [
      "downloaded 1 books\n",
      "downloaded 2 books\n",
      "downloaded 3 books\n",
      "downloaded 4 books\n",
      "downloaded 5 books\n",
      "downloaded 6 books\n",
      "downloaded 7 books\n",
      "downloaded 8 books\n",
      "downloaded 9 books\n",
      "downloaded 10 books\n",
      "failed to download keda1\n",
      "HTTP Error 404: Not Found\n",
      "failed to download kedf1\n",
      "HTTP Error 404: Not Found\n",
      "downloaded 13 books\n",
      "failed to download keep2\n",
      "HTTP Error 404: Not Found\n",
      "failed to download keep3\n",
      "HTTP Error 404: Not Found\n",
      "failed to download keep4\n",
      "HTTP Error 404: Not Found\n",
      "failed to download keep5\n",
      "HTTP Error 404: Not Found\n",
      "downloaded 18 books\n",
      "failed to download kefc1\n",
      "HTTP Error 404: Not Found\n",
      "downloaded 20 books\n"
     ]
    }
   ],
   "source": [
    "for i,url_name in enumerate(final_books[:20]):\n",
    "    url = f'https://ncert.nic.in/textbook/pdf/{url_name}dd.zip'\n",
    "    try:\n",
    "        urllib.request.urlretrieve(url, f\"{url_name}.zip\")\n",
    "        print(f\"downloaded {i+1} books\")\n",
    "    except Exception as e :\n",
    "        print(f\"failed to download {url_name}\")\n",
    "        print(e)"
   ]
  },
  {
   "cell_type": "code",
   "execution_count": 20,
   "metadata": {},
   "outputs": [
    {
     "name": "stdout",
     "output_type": "stream",
     "text": [
      "downloaded 1 books\n",
      "downloaded 2 books\n",
      "downloaded 3 books\n",
      "failed to download kedf1\n",
      "downloaded 5 books\n",
      "downloaded 6 books\n",
      "downloaded 7 books\n",
      "downloaded 8 books\n",
      "downloaded 9 books\n",
      "downloaded 10 books\n",
      "downloaded 11 books\n",
      "downloaded 12 books\n",
      "failed to download ieep1\n",
      "downloaded 14 books\n",
      "failed to download khep4\n",
      "downloaded 16 books\n",
      "downloaded 17 books\n",
      "downloaded 18 books\n",
      "failed to download ievc1\n",
      "downloaded 20 books\n"
     ]
    }
   ],
   "source": [
    "for i,url_name in enumerate(books_prefix[40:60]):\n",
    "    url = f'https://ncert.nic.in/textbook/pdf/{url_name}dd.zip'\n",
    "    try:\n",
    "        urllib.request.urlretrieve(url, f\"{url_name}.zip\")\n",
    "        print(f\"downloaded {i+1} books\")\n",
    "    except:\n",
    "        print(f\"failed to download {url_name}\")\n",
    "    "
   ]
  },
  {
   "cell_type": "code",
   "execution_count": 9,
   "metadata": {},
   "outputs": [],
   "source": []
  },
  {
   "cell_type": "code",
   "execution_count": 3,
   "metadata": {},
   "outputs": [
    {
     "data": {
      "text/plain": [
       "'c:\\\\Users\\\\isdkn\\\\OneDrive\\\\Desktop'"
      ]
     },
     "execution_count": 3,
     "metadata": {},
     "output_type": "execute_result"
    }
   ],
   "source": [
    "import os\n",
    "os.path.abspath('.')"
   ]
  },
  {
   "cell_type": "code",
   "execution_count": 12,
   "metadata": {},
   "outputs": [
    {
     "name": "stdout",
     "output_type": "stream",
     "text": [
      "leca1.zip unzipped\n",
      "lech2.zip unzipped\n",
      "lefl1.zip unzipped\n",
      "legy1.zip unzipped\n",
      "lemh2.zip unzipped\n",
      "leps1.zip unzipped\n",
      "lhan1.zip unzipped\n",
      "lhhs3.zip unzipped\n",
      "lhmh1.zip unzipped\n",
      "luab1.zip unzipped\n",
      "lucw1.zip unzipped\n",
      "ludh1.zip unzipped\n",
      "luna1.zip unzipped\n",
      "luph1.zip unzipped\n",
      "luph2.zip unzipped\n"
     ]
    },
    {
     "ename": "ReadError",
     "evalue": "./ncert.zip is not a zip file",
     "output_type": "error",
     "traceback": [
      "\u001b[1;31m---------------------------------------------------------------------------\u001b[0m",
      "\u001b[1;31mReadError\u001b[0m                                 Traceback (most recent call last)",
      "Cell \u001b[1;32mIn[12], line 7\u001b[0m\n\u001b[0;32m      5\u001b[0m files \u001b[39m=\u001b[39m [file \u001b[39mfor\u001b[39;00m file \u001b[39min\u001b[39;00m os\u001b[39m.\u001b[39mlistdir() \u001b[39mif\u001b[39;00m file\u001b[39m>\u001b[39m\u001b[39m'\u001b[39m\u001b[39ml\u001b[39m\u001b[39m'\u001b[39m \u001b[39mand\u001b[39;00m file\u001b[39m.\u001b[39mendswith(\u001b[39m'\u001b[39m\u001b[39m.zip\u001b[39m\u001b[39m'\u001b[39m)]\n\u001b[0;32m      6\u001b[0m \u001b[39mfor\u001b[39;00m file \u001b[39min\u001b[39;00m files: \n\u001b[1;32m----> 7\u001b[0m     shutil\u001b[39m.\u001b[39;49munpack_archive(\u001b[39mf\u001b[39;49m\u001b[39m'\u001b[39;49m\u001b[39m./\u001b[39;49m\u001b[39m{\u001b[39;49;00mfile\u001b[39m}\u001b[39;49;00m\u001b[39m'\u001b[39;49m, \u001b[39mf\u001b[39;49m\u001b[39m'\u001b[39;49m\u001b[39m./books/\u001b[39;49m\u001b[39m{\u001b[39;49;00mfile\u001b[39m.\u001b[39;49msplit(\u001b[39m\"\u001b[39;49m\u001b[39m.\u001b[39;49m\u001b[39m\"\u001b[39;49m)[\u001b[39m0\u001b[39;49m]\u001b[39m}\u001b[39;49;00m\u001b[39m)\u001b[39;49m\u001b[39m'\u001b[39;49m)\n\u001b[0;32m      8\u001b[0m     \u001b[39mprint\u001b[39m(\u001b[39mf\u001b[39m\u001b[39m'\u001b[39m\u001b[39m{\u001b[39;00mfile\u001b[39m}\u001b[39;00m\u001b[39m unzipped\u001b[39m\u001b[39m'\u001b[39m)\n",
      "File \u001b[1;32mc:\\Users\\isdkn\\AppData\\Local\\Programs\\Python\\Python311\\Lib\\shutil.py:1316\u001b[0m, in \u001b[0;36munpack_archive\u001b[1;34m(filename, extract_dir, format)\u001b[0m\n\u001b[0;32m   1314\u001b[0m func \u001b[39m=\u001b[39m _UNPACK_FORMATS[\u001b[39mformat\u001b[39m][\u001b[39m1\u001b[39m]\n\u001b[0;32m   1315\u001b[0m kwargs \u001b[39m=\u001b[39m \u001b[39mdict\u001b[39m(_UNPACK_FORMATS[\u001b[39mformat\u001b[39m][\u001b[39m2\u001b[39m])\n\u001b[1;32m-> 1316\u001b[0m func(filename, extract_dir, \u001b[39m*\u001b[39;49m\u001b[39m*\u001b[39;49mkwargs)\n",
      "File \u001b[1;32mc:\\Users\\isdkn\\AppData\\Local\\Programs\\Python\\Python311\\Lib\\shutil.py:1210\u001b[0m, in \u001b[0;36m_unpack_zipfile\u001b[1;34m(filename, extract_dir)\u001b[0m\n\u001b[0;32m   1207\u001b[0m \u001b[39mimport\u001b[39;00m \u001b[39mzipfile\u001b[39;00m  \u001b[39m# late import for breaking circular dependency\u001b[39;00m\n\u001b[0;32m   1209\u001b[0m \u001b[39mif\u001b[39;00m \u001b[39mnot\u001b[39;00m zipfile\u001b[39m.\u001b[39mis_zipfile(filename):\n\u001b[1;32m-> 1210\u001b[0m     \u001b[39mraise\u001b[39;00m ReadError(\u001b[39m\"\u001b[39m\u001b[39m%s\u001b[39;00m\u001b[39m is not a zip file\u001b[39m\u001b[39m\"\u001b[39m \u001b[39m%\u001b[39m filename)\n\u001b[0;32m   1212\u001b[0m \u001b[39mzip\u001b[39m \u001b[39m=\u001b[39m zipfile\u001b[39m.\u001b[39mZipFile(filename)\n\u001b[0;32m   1213\u001b[0m \u001b[39mtry\u001b[39;00m:\n",
      "\u001b[1;31mReadError\u001b[0m: ./ncert.zip is not a zip file"
     ]
    }
   ],
   "source": [
    "import shutil\n",
    "import os\n",
    "\n",
    "# unzip all files in the folder named books\n",
    "files = [file for file in os.listdir() if file>'l' and file.endswith('.zip')]\n",
    "for file in files: \n",
    "    shutil.unpack_archive(f'./{file}', f'./books/{file.split(\".\")[0]})')\n",
    "    print(f'{file} unzipped')"
   ]
  },
  {
   "cell_type": "code",
   "execution_count": null,
   "metadata": {},
   "outputs": [],
   "source": []
  }
 ],
 "metadata": {
  "kernelspec": {
   "display_name": "Python 3",
   "language": "python",
   "name": "python3"
  },
  "language_info": {
   "codemirror_mode": {
    "name": "ipython",
    "version": 3
   },
   "file_extension": ".py",
   "mimetype": "text/x-python",
   "name": "python",
   "nbconvert_exporter": "python",
   "pygments_lexer": "ipython3",
   "version": "3.11.3"
  },
  "orig_nbformat": 4
 },
 "nbformat": 4,
 "nbformat_minor": 2
}
